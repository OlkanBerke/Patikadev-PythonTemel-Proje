{
 "cells": [
  {
   "cell_type": "code",
   "execution_count": 4,
   "id": "604d357f-ae6e-4c09-9523-e09f070c2cc4",
   "metadata": {},
   "outputs": [
    {
     "name": "stdout",
     "output_type": "stream",
     "text": [
      "[1, 2, 3, 4, 5, 6, 7, 8, 9, 10]\n"
     ]
    }
   ],
   "source": [
    "def flatten (a,b):\n",
    "\n",
    "    for i in a:\n",
    "        if type(i) != type([]):\n",
    "            b.append(i)\n",
    "        elif type(i) == type([]):\n",
    "            flatten(i, b)\n",
    "    return b\n",
    "\n",
    "\n",
    "arr = [1,[2,3,4,5],[6],7,[8,9,10]]\n",
    "f_list = []\n",
    " \n",
    "print(flatten(arr, f_list))\n"
   ]
  }
 ],
 "metadata": {
  "kernelspec": {
   "display_name": "Python 3 (ipykernel)",
   "language": "python",
   "name": "python3"
  },
  "language_info": {
   "codemirror_mode": {
    "name": "ipython",
    "version": 3
   },
   "file_extension": ".py",
   "mimetype": "text/x-python",
   "name": "python",
   "nbconvert_exporter": "python",
   "pygments_lexer": "ipython3",
   "version": "3.10.7"
  }
 },
 "nbformat": 4,
 "nbformat_minor": 5
}
