{
 "cells": [
  {
   "cell_type": "code",
   "execution_count": 6,
   "id": "e5b61808-7fb8-4480-b42f-68ffbfa6ed65",
   "metadata": {},
   "outputs": [
    {
     "name": "stdout",
     "output_type": "stream",
     "text": [
      "[[10], [[9, 8], 7, 6], [5, 4, 3], [2], 1]\n"
     ]
    }
   ],
   "source": [
    "def reversed_list (arr):\n",
    "    \n",
    "    for i in range(len(arr)):\n",
    "        if type(arr[i]) == type([]):\n",
    "            arr[i] = arr[i][::-1]\n",
    "            reversed_list(arr[i])\n",
    "    \n",
    "    return (arr[::-1])\n",
    "\n",
    "arr = [1,[2],[3,4,5],[6,7,[8,9]],[10]]\n",
    "print(reversed_list(arr))"
   ]
  },
  {
   "cell_type": "code",
   "execution_count": null,
   "id": "a14d9edf-3081-48ef-a0ec-cd56ce7cc96b",
   "metadata": {},
   "outputs": [],
   "source": []
  }
 ],
 "metadata": {
  "kernelspec": {
   "display_name": "Python 3 (ipykernel)",
   "language": "python",
   "name": "python3"
  },
  "language_info": {
   "codemirror_mode": {
    "name": "ipython",
    "version": 3
   },
   "file_extension": ".py",
   "mimetype": "text/x-python",
   "name": "python",
   "nbconvert_exporter": "python",
   "pygments_lexer": "ipython3",
   "version": "3.10.7"
  }
 },
 "nbformat": 4,
 "nbformat_minor": 5
}
